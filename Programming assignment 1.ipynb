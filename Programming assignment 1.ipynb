{
 "cells": [
  {
   "cell_type": "code",
   "execution_count": 1,
   "id": "6a5d8a51",
   "metadata": {},
   "outputs": [
    {
     "name": "stdout",
     "output_type": "stream",
     "text": [
      "Hello Python\n"
     ]
    }
   ],
   "source": [
    "print(\"Hello Python\")"
   ]
  },
  {
   "cell_type": "code",
   "execution_count": 5,
   "id": "e905401a",
   "metadata": {},
   "outputs": [
    {
     "name": "stdout",
     "output_type": "stream",
     "text": [
      "a plus b =  15\n",
      "a division b =  2.0\n"
     ]
    }
   ],
   "source": [
    "a=10\n",
    "b=5\n",
    "c=a+b\n",
    "d=a/b\n",
    "print(\"a plus b = \",c)\n",
    "print(\"a division b = \",d)"
   ]
  },
  {
   "cell_type": "code",
   "execution_count": 7,
   "id": "95c58fcc",
   "metadata": {},
   "outputs": [
    {
     "name": "stdout",
     "output_type": "stream",
     "text": [
      "Enter base of triangle in centimeter : 10\n",
      "Enter height of triangle in centimeter : 20\n",
      "The area of triangle is  100.0 cms\n"
     ]
    }
   ],
   "source": [
    "#area of triange. \n",
    "base=int(input(\"Enter base of triangle in centimeter : \"))\n",
    "height=int(input(\"Enter height of triangle in centimeter : \"))\n",
    "area=0.5*base*height\n",
    "print(\"The area of triangle is \",area ,\"cms\")"
   ]
  },
  {
   "cell_type": "code",
   "execution_count": 12,
   "id": "9d76749a",
   "metadata": {},
   "outputs": [
    {
     "name": "stdout",
     "output_type": "stream",
     "text": [
      "1st swapped varaible 20\n",
      "2nd swapped varaible  10\n"
     ]
    }
   ],
   "source": [
    "a=10\n",
    "b=20\n",
    "c=a\n",
    "a=b\n",
    "b=c\n",
    "print(\"1st swapped varaible\",a)\n",
    "print(\"2nd swapped varaible \",b)"
   ]
  },
  {
   "cell_type": "code",
   "execution_count": 19,
   "id": "e164f046",
   "metadata": {},
   "outputs": [
    {
     "name": "stdout",
     "output_type": "stream",
     "text": [
      "57\n"
     ]
    }
   ],
   "source": [
    "import random\n",
    "print(random.randint(1,100))"
   ]
  },
  {
   "cell_type": "code",
   "execution_count": null,
   "id": "013c9ede",
   "metadata": {},
   "outputs": [],
   "source": []
  },
  {
   "cell_type": "code",
   "execution_count": null,
   "id": "51aec261",
   "metadata": {},
   "outputs": [],
   "source": []
  }
 ],
 "metadata": {
  "kernelspec": {
   "display_name": "Python 3",
   "language": "python",
   "name": "python3"
  },
  "language_info": {
   "codemirror_mode": {
    "name": "ipython",
    "version": 3
   },
   "file_extension": ".py",
   "mimetype": "text/x-python",
   "name": "python",
   "nbconvert_exporter": "python",
   "pygments_lexer": "ipython3",
   "version": "3.8.8"
  }
 },
 "nbformat": 4,
 "nbformat_minor": 5
}

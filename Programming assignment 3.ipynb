{
 "cells": [
  {
   "cell_type": "code",
   "execution_count": 1,
   "id": "952e27bb",
   "metadata": {},
   "outputs": [
    {
     "data": {
      "text/plain": [
       "'1.\\tWrite a Python Program to Check if a Number is Positive, Negative or Zero?'"
      ]
     },
     "execution_count": 1,
     "metadata": {},
     "output_type": "execute_result"
    }
   ],
   "source": [
    "'''1.\tWrite a Python Program to Check if a Number is Positive, Negative or Zero?'''"
   ]
  },
  {
   "cell_type": "code",
   "execution_count": 3,
   "id": "3b84f1be",
   "metadata": {},
   "outputs": [
    {
     "name": "stdout",
     "output_type": "stream",
     "text": [
      "enter a random number: -1\n",
      "the number is negative\n"
     ]
    }
   ],
   "source": [
    "a=int(input(\"enter a random number: \"))\n",
    "\n",
    "if a==0:\n",
    "    print(\"the number is zero\")\n",
    "elif a>0:\n",
    "    print(\"the number is positive\")\n",
    "else:\n",
    "    print(\"the number is negative\")"
   ]
  },
  {
   "cell_type": "code",
   "execution_count": 4,
   "id": "0ce220de",
   "metadata": {},
   "outputs": [
    {
     "data": {
      "text/plain": [
       "'2.\\tWrite a Python Program to Check if a Number is Odd or Even?'"
      ]
     },
     "execution_count": 4,
     "metadata": {},
     "output_type": "execute_result"
    }
   ],
   "source": [
    "'''2.\tWrite a Python Program to Check if a Number is Odd or Even?'''"
   ]
  },
  {
   "cell_type": "code",
   "execution_count": 10,
   "id": "7123b154",
   "metadata": {},
   "outputs": [
    {
     "name": "stdout",
     "output_type": "stream",
     "text": [
      "Enter a number: 2\n",
      "Number is even \n"
     ]
    }
   ],
   "source": [
    "a=int(input(\"Enter a number: \"))\n",
    "if a%2==0:\n",
    "    print(\"Number is even \")\n",
    "else: \n",
    "    print(\"Number is odd \")"
   ]
  },
  {
   "cell_type": "code",
   "execution_count": 9,
   "id": "a6608f6b",
   "metadata": {},
   "outputs": [
    {
     "data": {
      "text/plain": [
       "'3.\\tWrite a Python Program to Check Leap Year?'"
      ]
     },
     "execution_count": 9,
     "metadata": {},
     "output_type": "execute_result"
    }
   ],
   "source": [
    "'''3.\tWrite a Python Program to Check Leap Year?'''"
   ]
  },
  {
   "cell_type": "code",
   "execution_count": 12,
   "id": "ee633c2c",
   "metadata": {},
   "outputs": [
    {
     "name": "stdout",
     "output_type": "stream",
     "text": [
      "enter a year: 2000\n",
      "yes its leap year\n"
     ]
    }
   ],
   "source": [
    "a=int(input(\"enter a year: \"))\n",
    "\n",
    "if a>=400:\n",
    "    if a%4==0:\n",
    "        print(\"yes its leap year\")\n",
    "    else:\n",
    "        print(\"its not\")\n",
    "else:\n",
    "    print(\"its not a leap year\")"
   ]
  },
  {
   "cell_type": "code",
   "execution_count": 13,
   "id": "66103764",
   "metadata": {},
   "outputs": [
    {
     "data": {
      "text/plain": [
       "'4.\\tWrite a Python Program to Check Prime Number?'"
      ]
     },
     "execution_count": 13,
     "metadata": {},
     "output_type": "execute_result"
    }
   ],
   "source": [
    "'''4.\tWrite a Python Program to Check Prime Number?'''"
   ]
  },
  {
   "cell_type": "code",
   "execution_count": 23,
   "id": "f6ba8257",
   "metadata": {},
   "outputs": [
    {
     "name": "stdout",
     "output_type": "stream",
     "text": [
      "enter a number: 6\n",
      "it is not prime number\n"
     ]
    }
   ],
   "source": [
    "a=int(input(\"enter a number: \"))\n",
    "\n",
    "if a>1:\n",
    "    for i in range(2,a):\n",
    "        if(a%i)==0:\n",
    "            print(\"it is not prime number\")\n",
    "            break\n",
    "    else:\n",
    "            print(\"it is prime number\")\n",
    "else:\n",
    "    print(\"it is not a prime number\")\n",
    "        \n",
    "    \n",
    "    "
   ]
  },
  {
   "cell_type": "code",
   "execution_count": 24,
   "id": "2ca252d0",
   "metadata": {},
   "outputs": [
    {
     "data": {
      "text/plain": [
       "'5.\\tWrite a Python Program to Print all Prime Numbers in an Interval of 1-10000?'"
      ]
     },
     "execution_count": 24,
     "metadata": {},
     "output_type": "execute_result"
    }
   ],
   "source": [
    "'''5.\tWrite a Python Program to Print all Prime Numbers in an Interval of 1-10000?'''"
   ]
  },
  {
   "cell_type": "code",
   "execution_count": 39,
   "id": "cc9c9c29",
   "metadata": {},
   "outputs": [
    {
     "name": "stdout",
     "output_type": "stream",
     "text": [
      "2\n",
      "3\n",
      "5\n",
      "7\n",
      "11\n",
      "13\n",
      "17\n",
      "19\n",
      "23\n",
      "29\n",
      "31\n",
      "37\n",
      "41\n",
      "43\n",
      "47\n",
      "53\n",
      "59\n",
      "61\n",
      "67\n",
      "71\n",
      "73\n",
      "79\n",
      "83\n",
      "89\n",
      "97\n"
     ]
    }
   ],
   "source": [
    "a=1\n",
    "b=100\n",
    "for i in range(a,b+1):\n",
    "    if i>1:\n",
    "        for j in range(2,i):\n",
    "            if(i%j)==0:\n",
    "                break\n",
    "        else:\n",
    "            print(i)\n"
   ]
  },
  {
   "cell_type": "code",
   "execution_count": null,
   "id": "5a146a13",
   "metadata": {},
   "outputs": [],
   "source": []
  }
 ],
 "metadata": {
  "kernelspec": {
   "display_name": "Python 3",
   "language": "python",
   "name": "python3"
  },
  "language_info": {
   "codemirror_mode": {
    "name": "ipython",
    "version": 3
   },
   "file_extension": ".py",
   "mimetype": "text/x-python",
   "name": "python",
   "nbconvert_exporter": "python",
   "pygments_lexer": "ipython3",
   "version": "3.8.8"
  }
 },
 "nbformat": 4,
 "nbformat_minor": 5
}

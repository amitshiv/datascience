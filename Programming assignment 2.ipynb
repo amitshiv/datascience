{
 "cells": [
  {
   "cell_type": "code",
   "execution_count": 1,
   "id": "d29624b2",
   "metadata": {},
   "outputs": [
    {
     "data": {
      "text/plain": [
       "'1.\\tWrite a Python program to convert kilometers to miles?'"
      ]
     },
     "execution_count": 1,
     "metadata": {},
     "output_type": "execute_result"
    }
   ],
   "source": [
    "'''1.\tWrite a Python program to convert kilometers to miles?'''"
   ]
  },
  {
   "cell_type": "code",
   "execution_count": 2,
   "id": "e37184b1",
   "metadata": {},
   "outputs": [
    {
     "name": "stdout",
     "output_type": "stream",
     "text": [
      "kindly enter distance in kilometer 2\n",
      "your distance in miles =  1.242742\n"
     ]
    }
   ],
   "source": [
    "a=int(input(\"kindly enter distance in kilometer \"))\n",
    "b=a*0.621371\n",
    "print(\"your distance in miles = \",b)"
   ]
  },
  {
   "cell_type": "code",
   "execution_count": 3,
   "id": "dd653cb5",
   "metadata": {},
   "outputs": [
    {
     "data": {
      "text/plain": [
       "'2.\\tWrite a Python program to convert Celsius to Fahrenheit?'"
      ]
     },
     "execution_count": 3,
     "metadata": {},
     "output_type": "execute_result"
    }
   ],
   "source": [
    "'''2.\tWrite a Python program to convert Celsius to Fahrenheit?'''"
   ]
  },
  {
   "cell_type": "code",
   "execution_count": 4,
   "id": "0ef59c5a",
   "metadata": {},
   "outputs": [
    {
     "name": "stdout",
     "output_type": "stream",
     "text": [
      "kindly enter temperature in celcius 10\n",
      "your temperature in fahrenheit =  338.0\n"
     ]
    }
   ],
   "source": [
    "a=float(input(\"kindly enter temperature in celcius \"))\n",
    "b=a*33.8\n",
    "print(\"your temperature in fahrenheit = \",b)"
   ]
  },
  {
   "cell_type": "code",
   "execution_count": 5,
   "id": "3eb16cab",
   "metadata": {},
   "outputs": [
    {
     "data": {
      "text/plain": [
       "'3.\\tWrite a Python program to display calendar?'"
      ]
     },
     "execution_count": 5,
     "metadata": {},
     "output_type": "execute_result"
    }
   ],
   "source": [
    "'''3.\tWrite a Python program to display calendar?'''"
   ]
  },
  {
   "cell_type": "code",
   "execution_count": 6,
   "id": "501e40b1",
   "metadata": {},
   "outputs": [
    {
     "name": "stdout",
     "output_type": "stream",
     "text": [
      "tell month:03\n",
      "tell year1994\n",
      "     March 1994\n",
      "Mo Tu We Th Fr Sa Su\n",
      "    1  2  3  4  5  6\n",
      " 7  8  9 10 11 12 13\n",
      "14 15 16 17 18 19 20\n",
      "21 22 23 24 25 26 27\n",
      "28 29 30 31\n",
      "\n"
     ]
    }
   ],
   "source": [
    "import calendar\n",
    "\n",
    "a=int(input(\"tell month:\"))\n",
    "b=int(input(\"tell year\"))\n",
    "\n",
    "print(calendar.month(b,a))"
   ]
  },
  {
   "cell_type": "code",
   "execution_count": 7,
   "id": "03c40f35",
   "metadata": {},
   "outputs": [
    {
     "data": {
      "text/plain": [
       "'4.\\tWrite a Python program to solve quadratic equation?'"
      ]
     },
     "execution_count": 7,
     "metadata": {},
     "output_type": "execute_result"
    }
   ],
   "source": [
    "'''4.\tWrite a Python program to solve quadratic equation?'''"
   ]
  },
  {
   "cell_type": "code",
   "execution_count": 8,
   "id": "c9aacde3",
   "metadata": {},
   "outputs": [
    {
     "name": "stdout",
     "output_type": "stream",
     "text": [
      "The solved quadratic equation is:  (-1-1.4142135623730951j) (-1+1.4142135623730951j)\n"
     ]
    }
   ],
   "source": [
    "import cmath\n",
    "a=1\n",
    "b=2\n",
    "c=3\n",
    "d=((b**2)-(4*a*c))\n",
    "root1=(-b-cmath.sqrt(d))/(2*a)\n",
    "root2=(-b+cmath.sqrt(d))/(2*a)\n",
    "\n",
    "print(\"The solved quadratic equation is: \",root1,root2)"
   ]
  },
  {
   "cell_type": "code",
   "execution_count": 9,
   "id": "cb253d90",
   "metadata": {},
   "outputs": [
    {
     "data": {
      "text/plain": [
       "'5.\\tWrite a Python program to swap two variables without temp variable?'"
      ]
     },
     "execution_count": 9,
     "metadata": {},
     "output_type": "execute_result"
    }
   ],
   "source": [
    "'''5.\tWrite a Python program to swap two variables without temp variable?'''"
   ]
  },
  {
   "cell_type": "code",
   "execution_count": 10,
   "id": "48642c28",
   "metadata": {},
   "outputs": [
    {
     "name": "stdout",
     "output_type": "stream",
     "text": [
      "swapped varaible: 2 1\n"
     ]
    }
   ],
   "source": [
    "a=1\n",
    "b=2\n",
    "\n",
    "a,b=b,a\n",
    "print(\"swapped varaible:\",a,b)"
   ]
  },
  {
   "cell_type": "code",
   "execution_count": null,
   "id": "318a412c",
   "metadata": {},
   "outputs": [],
   "source": []
  }
 ],
 "metadata": {
  "kernelspec": {
   "display_name": "Python 3",
   "language": "python",
   "name": "python3"
  },
  "language_info": {
   "codemirror_mode": {
    "name": "ipython",
    "version": 3
   },
   "file_extension": ".py",
   "mimetype": "text/x-python",
   "name": "python",
   "nbconvert_exporter": "python",
   "pygments_lexer": "ipython3",
   "version": "3.8.8"
  }
 },
 "nbformat": 4,
 "nbformat_minor": 5
}
